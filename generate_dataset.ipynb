{
 "cells": [
  {
   "cell_type": "markdown",
   "metadata": {},
   "source": [
    "## Importing modules:"
   ]
  },
  {
   "cell_type": "code",
   "execution_count": 1,
   "metadata": {},
   "outputs": [],
   "source": [
    "import os \n",
    "import damask\n",
    "import numpy as np"
   ]
  },
  {
   "cell_type": "code",
   "execution_count": 13,
   "metadata": {},
   "outputs": [],
   "source": [
    "num_case = 1\n",
    "\n",
    "height = 128\n",
    "width = 128\n",
    "\n",
    "num_grain = 10\n",
    "directory_simulation = 'simulation_size=128_grains=10'\n"
   ]
  },
  {
   "cell_type": "code",
   "execution_count": 7,
   "metadata": {},
   "outputs": [
    {
     "data": {
      "text/plain": [
       "'/nethome/storage/raid2/m.khorrami/files/ML_elasticity_v2'"
      ]
     },
     "execution_count": 7,
     "metadata": {},
     "output_type": "execute_result"
    }
   ],
   "source": [
    "pwd()"
   ]
  },
  {
   "cell_type": "markdown",
   "metadata": {},
   "source": [
    "## Creating directories for case studies:"
   ]
  },
  {
   "cell_type": "code",
   "execution_count": 8,
   "metadata": {},
   "outputs": [],
   "source": [
    "if not os.path.exists(directory_simulation):\n",
    "        os.mkdir(directory_simulation)\n",
    "\n",
    "for case in range(0,num_case):\n",
    "        if not os.path.exists(directory_simulation+'/case_'+str(case)):\n",
    "                os.mkdir(directory_simulation+'/case_'+str(case)) \n",
    "\n",
    "# for case in range(0,num_case):\n",
    "#     os.makedirs(directory_simulation+'/case_'+str(case))"
   ]
  },
  {
   "cell_type": "markdown",
   "metadata": {},
   "source": [
    "## Creating geometries for each case studies:"
   ]
  },
  {
   "cell_type": "code",
   "execution_count": 9,
   "metadata": {},
   "outputs": [],
   "source": [
    "size = np.array([2.0,float(height),float(width)])\n",
    "cells = [2,int(height),int(width)]\n",
    "\n",
    "for case in range(0,num_case):\n",
    "    seeds = damask.seeds.from_random(size,num_grain,cells) # no modification on seeds\n",
    "    grid = damask.Grid.from_Voronoi_tessellation(cells,size,seeds)\n",
    "    grid.save(directory_simulation+'/case_'+str(case)+'/geom_'+str(case))\n",
    "\n",
    "# case = 0\n",
    "\n",
    "# g1 = damask.Grid(np.zeros((2,64,64),int), np.array([2.0,64.0,64.0]))\n",
    "# g1 = g1.add_primitive(np.array([32,32.0,32.0]),np.array([1.0,32.0,32.0]),1)\n",
    "# g1.save(directory_simulation+'/case_'+str(case)+'/geom_'+str(case))\n",
    "\n",
    "# g2 = damask.Grid(np.zeros((2,64,64),int), np.array([2.0,64.0,64.0]))\n",
    "# g2 = g2.add_primitive(np.array([4.0,32.0,32.0]),np.array([1.0,32.0,32.0]),200)\n",
    "# g2.save(directory_simulation+'/case_'+str(case)+'/geom_'+str(case))\n",
    "# g2.show()\n",
    "# print(g2)"
   ]
  },
  {
   "cell_type": "markdown",
   "metadata": {},
   "source": [
    "Defining functions: \n",
    "\n",
    "1 - calculating C_11, C_12, and C_44 from E and v (elasticity)\n",
    "\n",
    "2 - making phases for material.yaml (material configuration of DAMASK)\n",
    "\n",
    "3 - making material.yaml"
   ]
  },
  {
   "cell_type": "code",
   "execution_count": 10,
   "metadata": {},
   "outputs": [],
   "source": [
    "def E_v_to_C(E,v):\n",
    "    C_11 = E / ((1 + v) * (1 - 2 * v)) * (1 - v)\n",
    "    C_12 = E / ((1 + v) * (1 - 2 * v)) * v\n",
    "    C_44 = E / ((1 + v) * (1 - 2 * v)) * (1 - 2 * v)\n",
    "    return C_11, C_12, C_44\n",
    "\n",
    "def make_phase(file_name, C_11, C_12, C_44, Y, h, gamma_0):\n",
    "    file = open(file_name,'w+')\n",
    "    file.write('lattice: cF\\n')\n",
    "    file.write('mechanical:\\n')\n",
    "    file.write('    output: [F, P]\\n')\n",
    "    file.write('    elastic: {type: Hooke, C_11: '+str(C_11)+', C_12: '+str(C_12)+', C_44: '+str(C_44)+'}\\n')\n",
    "    # file.write('    plastic:\\n')\n",
    "    # file.write('        type: isotropic\\n')\n",
    "    # file.write('        xi_0: '+str(Y)+'\\n')\n",
    "    # file.write('        xi_inf: '+str(Y*1e30)+'\\n')\n",
    "    # file.write('        dot_gamma_0: '+str(gamma_0)+'\\n')\n",
    "    # file.write('        n: '+str(20)+'\\n')\n",
    "    # file.write('        M: '+str(1.0)+'\\n')\n",
    "    # file.write('        h_0: '+str(h)+'\\n')\n",
    "    # file.write('        a: '+str(1.0))\n",
    "    file.close()\n",
    "    return None\n",
    "\n",
    "def make_config_material(directory):\n",
    "    config_material = damask.ConfigMaterial()\n",
    "    config_material['homogenization']['SX'] = {'N_constituents':1,'mechanical':{'type':'pass'}}\n",
    "    for grain in range(0,num_grain):\n",
    "        config_material = config_material.material_add(phase=['phase_'+str(grain)], O=[1,0,0,0], homogenization='SX')\n",
    "    for grain in range(0,num_grain):\n",
    "        config_material['phase']['phase_'+str(grain)] = damask.ConfigMaterial.load(directory+'/grain_'+str(grain)+'.yaml')\n",
    "    config_material.save(directory+'/material.yaml')\n",
    "    return None"
   ]
  },
  {
   "cell_type": "markdown",
   "metadata": {},
   "source": [
    "## Creating case studies:\n",
    "making grains and material configurations"
   ]
  },
  {
   "cell_type": "code",
   "execution_count": 11,
   "metadata": {},
   "outputs": [],
   "source": [
    "E_min = 50  # in GPa\n",
    "E_max = 300 # in GPa\n",
    "v_min = 0.2\n",
    "v_max = 0.4\n",
    "Y_min = 50  # in MPa\n",
    "Y_max = 300 # in MPa\n",
    "h_min = 0   # in GPa\n",
    "h_max = 50  # in GPa\n",
    "\n",
    "for case in range(0,num_case):\n",
    "    file_properties_grains = open(directory_simulation+'/case_'+str(case)+'/properties_grain','w+')\n",
    "    for grain in range(0,num_grain):\n",
    "        E = np.random.uniform(E_min,E_max)*1e9\n",
    "        v = np.random.uniform(v_min,v_max)\n",
    "        Y = np.random.uniform(Y_min,Y_max)*1e6\n",
    "        h = np.random.uniform(h_min,h_max)*1e9\n",
    "        # E = 100*1e9\n",
    "        # v = 0.3\n",
    "        # Y = 200*1e6\n",
    "        # h = 50*1e9\n",
    "        gamma_0 = 0.001\n",
    "        # if grain==0:\n",
    "        #     E = E_min*1e9*1.05\n",
    "        #     v = v_min*1.05\n",
    "        #     Y = Y_min*1e6*1.05\n",
    "        #     h = h_min*1e9*1.05\n",
    "        # if grain==1:\n",
    "        #     E = E_max*1e9*0.95\n",
    "        #     v = v_max*0.95\n",
    "        #     Y = Y_max*1e6*0.95\n",
    "        #     h = h_max*1e9*0.95\n",
    "        # in each line: E, v, Y, h\n",
    "        # file_properties_grains.write(str(E)+' '+str(v)+' '+str(Y)+' '+str(h)+'\\n')\n",
    "        file_properties_grains.write(str(E)+' '+str(v)+'\\n')\n",
    "        C_11, C_12, C_44 = E_v_to_C(E,v)\n",
    "        make_phase(directory_simulation+'/case_'+str(case)+'/grain_'+str(grain)+'.yaml', C_11, C_12, C_44, Y, h, gamma_0)\n",
    "    file_properties_grains.close()\n",
    "    make_config_material(directory_simulation+'/case_'+str(case))"
   ]
  },
  {
   "cell_type": "markdown",
   "metadata": {},
   "source": [
    "## Running DAMASK:\n",
    "\n",
    "It is strongly recommended ro run this cell in a seperate python script and use \"nohup python3 running_DAMASK.py\"."
   ]
  },
  {
   "cell_type": "code",
   "execution_count": 5,
   "metadata": {},
   "outputs": [],
   "source": [
    "\n",
    "#os.system('export PETSC_DIR=/home/kourosh/petsc-3.14.2')\n",
    "#os.system('export PETSC_ARCH=arch-linux-c-opt')\n",
    "# os.system('source /home/kourosh/damask-3.0.0-alpha7/env/DAMASK.zsh')\n",
    "os.environ['OMP_NUM_THREADS'] = '8'\n",
    "\n",
    "for case in range(0,num_case):\n",
    "    os.chdir(directory_simulation+'/case_'+str(case))\n",
    "    # os.system('DAMASK_grid --load ../../tensionZ.yaml --geom geom_'+str(case)+'.vti')\n",
    "    os.system('mpirun -np 2 DAMASK_grid --load ../../tensionZ.yaml --geom geom_'+str(case)+'.vti')\n",
    "    os.chdir('../../')"
   ]
  },
  {
   "cell_type": "markdown",
   "metadata": {},
   "source": [
    "## Post-processing\n",
    "* calculating sigma and sigma_vM from output damask, hdf5 file\n",
    "* It is strongly recommende to run this cell in a seperate python script and use \"nohup python3 post_processing_vM.py\"."
   ]
  },
  {
   "cell_type": "code",
   "execution_count": null,
   "metadata": {},
   "outputs": [],
   "source": [
    "# # setting unlimitting open files \n",
    "# os.system('ulimit -s unlimited')\n",
    "# os.system('export HDF5_USE_FILE_LOCKING=FALSE')\n",
    "\n",
    "# # calculating sigma and sigma_vM:\n",
    "# # num_case = 1\n",
    "# for case in range(0,num_case):\n",
    "#     print('case: '+str(case)+'\\n')\n",
    "#     res = damask.Result(directory_simulation+'/case_'+str(case)+'/geom_'+str(case)+'_tensionZ.hdf5')\n",
    "#     res.add_stress_Cauchy()\n",
    "#     res.add_equivalent_Mises('sigma')\n",
    "#     # res.export_VTK()"
   ]
  },
  {
   "cell_type": "code",
   "execution_count": 6,
   "metadata": {},
   "outputs": [],
   "source": [
    "from numba import jit, njit, prange, vectorize\n",
    "import numpy as np\n",
    "import damask\n",
    "\n",
    "# num_case = 1\n",
    "num_inc = 20\n",
    "\n",
    "# sigma_vM = np.zeros((num_case,num_inc+1,int(height),int(width)))\n",
    "sigma_vM = np.zeros((num_case,int(height),int(width)))\n",
    "\n",
    "@jit(nopython=True, parallel=True)\n",
    "def calc_sigma_vM(F, P):\n",
    "    sigma_vM_ = np.zeros(height*width)\n",
    "    for i in prange(0,height*width):\n",
    "                J = np.linalg.det(F[i,:,:])\n",
    "                # sigma = np.dot(P[i,:,:],np.transpose(F[i,:,:])/J)\n",
    "                sigma = P[i,:,:]@np.transpose(F[i,:,:])/J\n",
    "                sigma_vM_[i] = np.sqrt(((sigma[0,0]-sigma[1,1])*(sigma[0,0]-sigma[1,1])+(sigma[1,1]-sigma[2,2])*(sigma[1,1]-sigma[2,2])+\n",
    "                                    (sigma[2,2]-sigma[0,0])*(sigma[2,2]-sigma[0,0])+6*(sigma[0,1]*sigma[0,1]+sigma[1,2]*sigma[1,2]+sigma[2,0]*sigma[2,0]))/2)\n",
    "    return sigma_vM_"
   ]
  },
  {
   "cell_type": "code",
   "execution_count": 13,
   "metadata": {},
   "outputs": [
    {
     "name": "stderr",
     "output_type": "stream",
     "text": [
      " ██████████████████████████████████████████████████ 100% ETA 0:00:00\n"
     ]
    },
    {
     "data": {
      "text/plain": [
       "()"
      ]
     },
     "execution_count": 13,
     "metadata": {},
     "output_type": "execute_result"
    }
   ],
   "source": [
    "P_ = res.place('P')\n",
    "F_"
   ]
  },
  {
   "cell_type": "code",
   "execution_count": 14,
   "metadata": {},
   "outputs": [
    {
     "name": "stderr",
     "output_type": "stream",
     "text": [
      " ████░░░░░░░░░░░░░░░░░░░░░░░░░░░░░░░░░░░░░░░░░░░░░░  10% ETA 0:00:01"
     ]
    },
    {
     "name": "stdout",
     "output_type": "stream",
     "text": [
      "case: 0\n",
      "\n"
     ]
    },
    {
     "name": "stderr",
     "output_type": "stream",
     "text": [
      " ██████████████████████████████████████████████████ 100% ETA 0:00:00\n",
      " ██████████████████████████████████████████████████ 100% ETA 0:00:00\n"
     ]
    }
   ],
   "source": [
    "from numba import prange\n",
    "\n",
    "# for case in prange(0,num_case):\n",
    "#     print('case: '+str(case)+'\\n')\n",
    "#     res = damask.Result(directory_simulation+'/case_'+str(case)+'/geom_'+str(case)+'_tensionZ.hdf5')\n",
    "#     F_ = res.place('F')\n",
    "#     P_ = res.place('P')\n",
    "#     for inc in prange(0,num_inc+1):\n",
    "#         F = np.reshape(F_['increment_'+str(inc)].data, (2,64,64,3,3), order='F')\n",
    "#         P = np.reshape(P_['increment_'+str(inc)].data, (2,64,64,3,3), order='F')\n",
    "#         F = np.reshape(F[0,:,:,:,:],(4096,3,3), order = 'F')\n",
    "#         P = np.reshape(P[0,:,:,:,:],(4096,3,3), order = 'F')\n",
    "#         sigma_vM[case,inc,:,:] = np.reshape(calc_sigma_vM(F, P),(64,64), order='F')\n",
    "\n",
    "last_inc = 20\n",
    "\n",
    "# P11 = np.zeros((int(height),int(width), num_case))\n",
    "P22 = np.zeros((int(height),int(width), num_case))\n",
    "P23 = np.zeros((int(height),int(width), num_case))\n",
    "P32 = np.zeros((int(height),int(width), num_case))\n",
    "P33 = np.zeros((int(height),int(width), num_case))\n",
    "\n",
    "# directory_simulation = \"../ML_elasticity/simulation2/\"\n",
    "\n",
    "for case in prange(0,num_case):\n",
    "    print('case: '+str(case)+'\\n')\n",
    "    res = damask.Result(directory_simulation+'/case_'+str(case)+'/geom_'+str(case)+'_tensionZ.hdf5')\n",
    "    F_ = res.place('F')\n",
    "    P_ = res.place('P')\n",
    "    F = np.reshape(F_['increment_'+str(last_inc)].data, (2,height,width,3,3), order='F')\n",
    "    P = np.reshape(P_['increment_'+str(last_inc)].data, (2,height,width,3,3), order='F')\n",
    "    # F = np.reshape(F[0,:,:,:,:],(height*width,3,3), order = 'F')\n",
    "    # P = np.reshape(P[0,:,:,:,:],(height*width,3,3), order = 'F')\n",
    "    # sigma_vM[case,:,:] = np.reshape(calc_sigma_vM(F, P),(64,64), order='F')\n",
    "    # P11[:,:,case] = P[0,:,:,0,0]\n",
    "    P22[:,:,case] = P[0,:,:,1,1]\n",
    "    P23[:,:,case] = P[0,:,:,1,2]\n",
    "    P32[:,:,case] = P[0,:,:,2,1]\n",
    "    P33[:,:,case] = P[0,:,:,2,2]\n",
    "\n",
    "# np.save(directory_simulation+'/P11',P11)\n",
    "\n",
    "# directory_simulation = \"./simulation/\"\n",
    "np.save(directory_simulation+'/P22',P22)\n",
    "np.save(directory_simulation+'/P23',P23)\n",
    "np.save(directory_simulation+'/P32',P32)\n",
    "np.save(directory_simulation+'/P33',P33)"
   ]
  },
  {
   "cell_type": "markdown",
   "metadata": {},
   "source": [
    "## Finding maximum of sigma_vM:"
   ]
  },
  {
   "cell_type": "code",
   "execution_count": 8,
   "metadata": {},
   "outputs": [
    {
     "ename": "FileNotFoundError",
     "evalue": "[Errno 2] No such file or directory: 'simulation2/P31.npy'",
     "output_type": "error",
     "traceback": [
      "\u001b[0;31m---------------------------------------------------------------------------\u001b[0m",
      "\u001b[0;31mFileNotFoundError\u001b[0m                         Traceback (most recent call last)",
      "\u001b[0;32m<ipython-input-8-79c860047eac>\u001b[0m in \u001b[0;36m<module>\u001b[0;34m\u001b[0m\n\u001b[1;32m     16\u001b[0m \u001b[0;31m# print('vM_max: ' + str(vM_max))\u001b[0m\u001b[0;34m\u001b[0m\u001b[0;34m\u001b[0m\u001b[0;34m\u001b[0m\u001b[0m\n\u001b[1;32m     17\u001b[0m \u001b[0;34m\u001b[0m\u001b[0m\n\u001b[0;32m---> 18\u001b[0;31m \u001b[0mP31\u001b[0m \u001b[0;34m=\u001b[0m \u001b[0mnp\u001b[0m\u001b[0;34m.\u001b[0m\u001b[0mload\u001b[0m\u001b[0;34m(\u001b[0m\u001b[0mdirectory_simulation\u001b[0m\u001b[0;34m+\u001b[0m\u001b[0;34m'/P31.npy'\u001b[0m\u001b[0;34m)\u001b[0m\u001b[0;34m\u001b[0m\u001b[0;34m\u001b[0m\u001b[0m\n\u001b[0m\u001b[1;32m     19\u001b[0m \u001b[0mP32\u001b[0m \u001b[0;34m=\u001b[0m \u001b[0mnp\u001b[0m\u001b[0;34m.\u001b[0m\u001b[0mload\u001b[0m\u001b[0;34m(\u001b[0m\u001b[0mdirectory_simulation\u001b[0m\u001b[0;34m+\u001b[0m\u001b[0;34m'/P32.npy'\u001b[0m\u001b[0;34m,\u001b[0m \u001b[0mallow_pickle\u001b[0m\u001b[0;34m=\u001b[0m\u001b[0;32mTrue\u001b[0m\u001b[0;34m)\u001b[0m\u001b[0;34m\u001b[0m\u001b[0;34m\u001b[0m\u001b[0m\n\u001b[1;32m     20\u001b[0m \u001b[0mP33\u001b[0m \u001b[0;34m=\u001b[0m \u001b[0mnp\u001b[0m\u001b[0;34m.\u001b[0m\u001b[0mload\u001b[0m\u001b[0;34m(\u001b[0m\u001b[0mdirectory_simulation\u001b[0m\u001b[0;34m+\u001b[0m\u001b[0;34m'/P33.npy'\u001b[0m\u001b[0;34m)\u001b[0m\u001b[0;34m\u001b[0m\u001b[0;34m\u001b[0m\u001b[0m\n",
      "\u001b[0;32m~/.local/lib/python3.8/site-packages/numpy/lib/npyio.py\u001b[0m in \u001b[0;36mload\u001b[0;34m(file, mmap_mode, allow_pickle, fix_imports, encoding)\u001b[0m\n\u001b[1;32m    415\u001b[0m             \u001b[0mown_fid\u001b[0m \u001b[0;34m=\u001b[0m \u001b[0;32mFalse\u001b[0m\u001b[0;34m\u001b[0m\u001b[0;34m\u001b[0m\u001b[0m\n\u001b[1;32m    416\u001b[0m         \u001b[0;32melse\u001b[0m\u001b[0;34m:\u001b[0m\u001b[0;34m\u001b[0m\u001b[0;34m\u001b[0m\u001b[0m\n\u001b[0;32m--> 417\u001b[0;31m             \u001b[0mfid\u001b[0m \u001b[0;34m=\u001b[0m \u001b[0mstack\u001b[0m\u001b[0;34m.\u001b[0m\u001b[0menter_context\u001b[0m\u001b[0;34m(\u001b[0m\u001b[0mopen\u001b[0m\u001b[0;34m(\u001b[0m\u001b[0mos_fspath\u001b[0m\u001b[0;34m(\u001b[0m\u001b[0mfile\u001b[0m\u001b[0;34m)\u001b[0m\u001b[0;34m,\u001b[0m \u001b[0;34m\"rb\"\u001b[0m\u001b[0;34m)\u001b[0m\u001b[0;34m)\u001b[0m\u001b[0;34m\u001b[0m\u001b[0;34m\u001b[0m\u001b[0m\n\u001b[0m\u001b[1;32m    418\u001b[0m             \u001b[0mown_fid\u001b[0m \u001b[0;34m=\u001b[0m \u001b[0;32mTrue\u001b[0m\u001b[0;34m\u001b[0m\u001b[0;34m\u001b[0m\u001b[0m\n\u001b[1;32m    419\u001b[0m \u001b[0;34m\u001b[0m\u001b[0m\n",
      "\u001b[0;31mFileNotFoundError\u001b[0m: [Errno 2] No such file or directory: 'simulation2/P31.npy'"
     ]
    }
   ],
   "source": [
    "# # vM_max = 851656527.9795784 * 1e-6\n",
    "# num_increment = 20\n",
    "# # num_case = 1\n",
    "\n",
    "# for case in range(0,num_case):\n",
    "#     print('case: '+str(case)+'\\n')\n",
    "#     res = damask.Result(directory_simulation+'/case_'+str(case)+'/geom_'+str(case)+'_tensionZ.hdf5')\n",
    "#     vM = res.place('sigma_vM')\n",
    "#     for inc in range(0,num_increment+1):\n",
    "#         vM_max = np.max([np.max(vM[ 'increment_'+str(inc)]),vM_max])\n",
    "\n",
    "# sigma_vM = np.load(directory_simulation+'/sigma_vM.npy')\n",
    "\n",
    "# vM_max = np.max(sigma_vM)\n",
    "\n",
    "# print('vM_max: ' + str(vM_max))\n",
    "\n",
    "# P31 = np.load(directory_simulation+'/P31.npy')\n",
    "P32 = np.load(directory_simulation+'/P32.npy', allow_pickle=True)\n",
    "P33 = np.load(directory_simulation+'/P33.npy')\n",
    "\n",
    "# P31_max = np.max(P31)\n",
    "P32_max = np.max(P32)\n",
    "P33_max = np.max(P33)\n",
    "\n",
    "# P31_min = np.min(P31)\n",
    "P32_min = np.min(P32)\n",
    "P33_min = np.min(P33)\n",
    "\n",
    "# print(P31_max)\n",
    "print(P32_max)\n",
    "print(P33_max)\n",
    "\n",
    "# print(P31_min)\n",
    "print(P32_min)\n",
    "print(P33_min)\n",
    "\n",
    "P_max = np.max([P32_max,P33_max])\n",
    "P_min = np.max([P32_min,P33_min])\n"
   ]
  },
  {
   "cell_type": "markdown",
   "metadata": {},
   "source": [
    "## Creating input/output pictures (bmp files) for machine learning:"
   ]
  },
  {
   "cell_type": "code",
   "execution_count": 15,
   "metadata": {},
   "outputs": [
    {
     "name": "stdout",
     "output_type": "stream",
     "text": [
      "case: 0\n",
      "\n"
     ]
    }
   ],
   "source": [
    "# from PIL import Image\n",
    "import damask\n",
    "import numpy as np\n",
    "import os\n",
    "\n",
    "# if not os.path.exists(directory_simulation+'/inputs'):\n",
    "#         os.mkdir(directory_simulation+'/inputs')\n",
    "\n",
    "# if not os.path.exists(directory_simulation+'/outputs'):\n",
    "#         os.mkdir(directory_simulation+'/outputs')\n",
    "\n",
    "# vM_max = 851656527.9795784\n",
    "\n",
    "E_min = 50 *1e9  # in Pa\n",
    "E_max = 300 *1e9 # in Pa\n",
    "v_min = 0.2\n",
    "v_max = 0.4\n",
    "Y_min = 50 *1e6 # in Pa\n",
    "Y_max = 300 *1e6 # in Pa\n",
    "h_min = 0 *1e9  # in Pa\n",
    "h_max = 50 *1e9 # in Pa\n",
    "\n",
    "# os.makedirs('inputs')\n",
    "# os.makedirs('outputs')\n",
    "\n",
    "# width = 64\n",
    "# height = 64\n",
    "\n",
    "# num_case = 1\n",
    "# num_increment = 20\n",
    "# num_grain = 10\n",
    "\n",
    "\n",
    "# def make_picture(data, minimum, maximum, directory, width=64, heigh=64):\n",
    "#     data_normalized = np.round((data - minimum) / (maximum - minimum) * 255.0)\n",
    "#     im = Image.new('L', [width, heigh])\n",
    "#     im.putdata(data_normalized.flatten())\n",
    "#     im = im.save(directory)\n",
    "#     return None\n",
    "\n",
    "# for case in range(0,num_case):\n",
    "#     print('case: '+str(case)+'\\n')\n",
    "#     # res = damask.Result(directory_simulation+'/case_'+str(case)+'/geom_'+str(case)+'_tensionZ.hdf5')\n",
    "#     # vM = res.place('sigma_vM') # vM[ 'increment_'+str(inc)]\n",
    "#     # for inc in range(0,num_increment+1):\n",
    "#     #     # data = np.reshape(vM['increment_'+str(inc)].data, [2, width, height],order='F')\n",
    "#     #     make_picture(sigma_vM[case,inc], 0.0, vM_max, directory_simulation+'/outputs/vM_'+str(case)+'_'+str(inc)+'.bmp')\n",
    "#     make_picture(P32[case], P32_min, P32_max, directory_simulation+'/outputs/P32_'+str(case)+'.bmp')\n",
    "#     make_picture(P33[case], P33_min, P33_max, directory_simulation+'/outputs/P33_'+str(case)+'.bmp')\n",
    "\n",
    "E_array = np.zeros((width, height, num_case))\n",
    "v_array = np.zeros((width, height, num_case))\n",
    "\n",
    "# directory_simulation = \"../ML_elasticity/simulation2/\"\n",
    "\n",
    "for case in range(0,num_case):\n",
    "    print('case: '+str(case)+'\\n')\n",
    "    grid = damask.Grid.load(directory_simulation+'/case_'+str(case)+'/geom_'+str(case)+'.vti')\n",
    "    material_ids = grid.material[0,:,:]\n",
    "    file_properties = open(directory_simulation+'/case_'+str(case)+'/properties_grain','r')\n",
    "    lines = file_properties.readlines()\n",
    "    E_all = np.zeros((width,height))\n",
    "    v_all = np.zeros((width,height))\n",
    "    # Y_all = np.zeros((width,height))\n",
    "    # h_all = np.zeros((width,height))\n",
    "    for grain in range(0,num_grain):\n",
    "        E_all = E_all + float(lines[grain].split()[0]) * (material_ids==grain)\n",
    "        v_all = v_all + float(lines[grain].split()[1]) * (material_ids==grain)\n",
    "        # Y_all = Y_all + float(lines[grain].split()[2]) * (material_ids==grain)\n",
    "        # h_all = h_all + float(lines[grain].split()[3]) * (material_ids==grain)\n",
    "    # make_picture(E_all, E_min, E_max, directory_simulation+'/inputs/E_'+str(case)+'.bmp')\n",
    "    # make_picture(v_all, v_min, v_max, directory_simulation+'/inputs/v_'+str(case)+'.bmp')\n",
    "    # make_picture(Y_all, Y_min, Y_max, directory_simulation+'/inputs/Y_'+str(case)+'.bmp')\n",
    "    # make_picture(h_all, h_min, h_max, directory_simulation+'/inputs/h_'+str(case)+'.bmp')\n",
    "    E_array[:,:,case] = E_all\n",
    "    v_array[:,:,case] = v_all\n",
    "\n",
    "# directory_simulation = \"./simulation/\"\n",
    "np.save(directory_simulation+'/E',E_array)\n",
    "np.save(directory_simulation+'/v',v_array)"
   ]
  },
  {
   "cell_type": "code",
   "execution_count": 16,
   "metadata": {},
   "outputs": [
    {
     "name": "stderr",
     "output_type": "stream",
     "text": [
      " ██████████████████████████████████████████████████ 100% ETA 0:00:00\n"
     ]
    }
   ],
   "source": [
    "case = 0\n",
    "res = damask.Result(directory_simulation+'/case_'+str(case)+'/geom_'+str(case)+'_tensionZ.hdf5')\n",
    "P = res.place('P')\n"
   ]
  },
  {
   "cell_type": "code",
   "execution_count": 20,
   "metadata": {},
   "outputs": [
    {
     "data": {
      "image/png": "[encoded data removed]",
      "text/plain": [
       "<Figure size 432x288 with 2 Axes>"
      ]
     },
     "metadata": {
      "needs_background": "light"
     },
     "output_type": "display_data"
    }
   ],
   "source": [
    "# vM_20 = vM['increment_20']\n",
    "# vM_20 = sigma_vM[0,20,:,:]\n",
    "\n",
    "import matplotlib.pyplot as plt\n",
    "import matplotlib as mpl\n",
    "%matplotlib inline\n",
    "# vM_reshaped = np.reshape(vM_20,(2,64,64),order='F')\n",
    "for inc in range(0,1):\n",
    "    plt.imshow(P32[0,:,:],cmap=mpl.colormaps['viridis'])\n",
    "    plt.colorbar()\n",
    "    plt.show()"
   ]
  },
  {
   "cell_type": "code",
   "execution_count": 24,
   "metadata": {},
   "outputs": [
    {
     "data": {
      "text/plain": [
       "Text(0.5, 0, '$F_{33}$')"
      ]
     },
     "execution_count": 24,
     "metadata": {},
     "output_type": "execute_result"
    },
    {
     "data": {
      "image/png": "[encoded data removed]",
      "text/plain": [
       "<Figure size 600x400 with 1 Axes>"
      ]
     },
     "metadata": {
      "needs_background": "light"
     },
     "output_type": "display_data"
    }
   ],
   "source": [
    "import matplotlib.pyplot as plt\n",
    "import matplotlib as mpl\n",
    "%matplotlib inline\n",
    "\n",
    "num_inc = 20\n",
    "F_33 = 1 + np.linspace(0,0.004,num_inc+1)\n",
    "ave_vM = np.zeros_like(F_33)\n",
    "for inc in range(0,num_inc+1):\n",
    "    ave_vM[inc] = np.average(sigma_vM[0,inc])*1e-6\n",
    "\n",
    "plt.figure(1,dpi=100)\n",
    "plt.plot(F_33,ave_vM)\n",
    "plt.xlabel('$F_{33}$')"
   ]
  }
 ],
 "metadata": {
  "kernelspec": {
   "display_name": "Julia 1.8.2",
   "language": "julia",
   "name": "."
  },
  "language_info": {
   "codemirror_mode": {
    "name": "ipython",
    "version": 3
   },
   "file_extension": ".py",
   "mimetype": "text/x-python",
   "name": "julia",
   "nbconvert_exporter": "python",
   "pygments_lexer": "ipython3",
   "version": "3.8.10"
  },
  "orig_nbformat": 4,
  "vscode": {
   "interpreter": {
    "hash": "916dbcbb3f70747c44a77c7bcd40155683ae19c65e1c03b4aa3499c5328201f1"
   }
  }
 },
 "nbformat": 4,
 "nbformat_minor": 2
}
